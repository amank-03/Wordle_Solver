{
 "cells": [
  {
   "cell_type": "code",
   "execution_count": 1,
   "metadata": {},
   "outputs": [],
   "source": [
    "w_list = open(\"word.txt\" , \"r\")"
   ]
  },
  {
   "cell_type": "code",
   "execution_count": 2,
   "metadata": {},
   "outputs": [],
   "source": [
    "w_list"
   ]
  },
  {
   "cell_type": "code",
   "execution_count": 3,
   "metadata": {},
   "outputs": [],
   "source": [
    "a = [x[:5] for x in w_list]\n"
   ]
  },
  {
   "cell_type": "code",
   "execution_count": 4,
   "metadata": {},
   "outputs": [
    {
     "data": {
      "text/plain": [
       "5757"
      ]
     },
     "execution_count": 4,
     "metadata": {},
     "output_type": "execute_result"
    }
   ],
   "source": [
    "len(a)"
   ]
  },
  {
   "cell_type": "code",
   "execution_count": 5,
   "metadata": {},
   "outputs": [],
   "source": [
    "\n",
    "def wordListToDict(a):\n",
    "    my_dict = {}\n",
    "    string = \"abcdefghijklmnopqrstuvwxyz\"\n",
    "    for i in range(1,6):\n",
    "        for j in string:\n",
    "            for word in a:\n",
    "                if word[i-1]==j and (str(i)+j) not in my_dict.keys():\n",
    "                    my_dict[str(i)+j] = [word]\n",
    "                elif word[i-1]==j:\n",
    "                    my_dict[str(i)+j].append(word)\n",
    "                \n",
    "    return(my_dict)\n",
    "            "
   ]
  },
  {
   "cell_type": "code",
   "execution_count": 6,
   "metadata": {},
   "outputs": [
    {
     "ename": "NameError",
     "evalue": "name 'a' is not defined",
     "output_type": "error",
     "traceback": [
      "\u001b[1;31m---------------------------------------------------------------------------\u001b[0m",
      "\u001b[1;31mNameError\u001b[0m                                 Traceback (most recent call last)",
      "\u001b[1;32m<ipython-input-6-ec8712f81484>\u001b[0m in \u001b[0;36m<module>\u001b[1;34m\u001b[0m\n\u001b[1;32m----> 1\u001b[1;33m \u001b[0mword_dict\u001b[0m \u001b[1;33m=\u001b[0m \u001b[0mwordListToDict\u001b[0m\u001b[1;33m(\u001b[0m\u001b[0ma\u001b[0m\u001b[1;33m)\u001b[0m\u001b[1;33m\u001b[0m\u001b[1;33m\u001b[0m\u001b[0m\n\u001b[0m",
      "\u001b[1;31mNameError\u001b[0m: name 'a' is not defined"
     ]
    }
   ],
   "source": [
    "word_dict = wordListToDict(a)"
   ]
  },
  {
   "cell_type": "code",
   "execution_count": 7,
   "metadata": {},
   "outputs": [],
   "source": [
    "def gen(word_dict):\n",
    "    print(\"enter locationLetter : eg 1a 2c\")\n",
    "    loc_let = [x for x in input().split(\" \")]\n",
    "    \n",
    "    n = len(loc_let)\n",
    "    arr = []\n",
    "    for ele in loc_let:\n",
    "        arr.append(word_dict[ele])\n",
    "    return(arr)\n",
    "        "
   ]
  },
  {
   "cell_type": "code",
   "execution_count": 8,
   "metadata": {},
   "outputs": [],
   "source": [
    "def wordMatcher(arr1,arr2):\n",
    "    my_list = []\n",
    "    for word in arr1:\n",
    "        if word in arr2:\n",
    "            my_list.append(word)\n",
    "    return(my_list)"
   ]
  },
  {
   "cell_type": "code",
   "execution_count": 9,
   "metadata": {},
   "outputs": [],
   "source": [
    "def wordList(arr):\n",
    "    if len(arr) ==1:\n",
    "        return(arr)\n",
    "    else:\n",
    "        for i in range(len(arr)-1):\n",
    "            arr[i+1] = wordMatcher(arr[i],arr[i+1])\n",
    "    return(arr[-1])"
   ]
  },
  {
   "cell_type": "code",
   "execution_count": 10,
   "metadata": {},
   "outputs": [],
   "source": [
    "def solver():\n",
    "    w_list = open(\"word.txt\" , \"r\")\n",
    "    a = [x[:5] for x in w_list]\n",
    "    word_dict = wordListToDict(a)\n",
    "    f_arr = gen(word_dict)\n",
    "    ans = wordList(f_arr)\n",
    "    return(ans)\n",
    "    "
   ]
  },
  {
   "cell_type": "code",
   "execution_count": 19,
   "metadata": {},
   "outputs": [
    {
     "name": "stdout",
     "output_type": "stream",
     "text": [
      "enter locationLetter : eg 1a 2c\n",
      "2r 3o 4v 5e\n"
     ]
    },
    {
     "data": {
      "text/plain": [
       "['drove', 'prove', 'grove', 'trove']"
      ]
     },
     "execution_count": 19,
     "metadata": {},
     "output_type": "execute_result"
    }
   ],
   "source": [
    "solver()"
   ]
  },
  {
   "cell_type": "code",
   "execution_count": 13,
   "metadata": {},
   "outputs": [
    {
     "name": "stdout",
     "output_type": "stream",
     "text": [
      "enter locationLetter : eg 1a 2c\n",
      "1s 2p 3o\n"
     ]
    },
    {
     "data": {
      "text/plain": [
       "['spoke',\n",
       " 'spots',\n",
       " 'sport',\n",
       " 'spoon',\n",
       " 'spoil',\n",
       " 'spout',\n",
       " 'spool',\n",
       " 'spore',\n",
       " 'spook',\n",
       " 'spoof',\n",
       " 'spoor']"
      ]
     },
     "execution_count": 13,
     "metadata": {},
     "output_type": "execute_result"
    }
   ],
   "source": [
    "solver()"
   ]
  },
  {
   "cell_type": "code",
   "execution_count": 26,
   "metadata": {},
   "outputs": [
    {
     "name": "stdout",
     "output_type": "stream",
     "text": [
      "enter locationLetter : eg 1a 2c\n",
      "2a 4g 5y\n"
     ]
    },
    {
     "data": {
      "text/plain": [
       "['baggy', 'tangy', 'rangy', 'mangy', 'jaggy']"
      ]
     },
     "execution_count": 26,
     "metadata": {},
     "output_type": "execute_result"
    }
   ],
   "source": [
    "solver()"
   ]
  },
  {
   "cell_type": "code",
   "execution_count": 25,
   "metadata": {},
   "outputs": [
    {
     "name": "stdout",
     "output_type": "stream",
     "text": [
      "enter locationLetter : eg 1a 2c\n",
      "1g 2a 5y\n"
     ]
    },
    {
     "data": {
      "text/plain": [
       "['gaily',\n",
       " 'gaudy',\n",
       " 'gayly',\n",
       " 'gawky',\n",
       " 'gauzy',\n",
       " 'gassy',\n",
       " 'gamey',\n",
       " 'gabby',\n",
       " 'gappy']"
      ]
     },
     "execution_count": 25,
     "metadata": {},
     "output_type": "execute_result"
    }
   ],
   "source": [
    "solver()"
   ]
  },
  {
   "cell_type": "code",
   "execution_count": null,
   "metadata": {},
   "outputs": [],
   "source": []
  }
 ],
 "metadata": {
  "kernelspec": {
   "display_name": "Python 3",
   "language": "python",
   "name": "python3"
  },
  "language_info": {
   "codemirror_mode": {
    "name": "ipython",
    "version": 3
   },
   "file_extension": ".py",
   "mimetype": "text/x-python",
   "name": "python",
   "nbconvert_exporter": "python",
   "pygments_lexer": "ipython3",
   "version": "3.8.5"
  }
 },
 "nbformat": 4,
 "nbformat_minor": 4
}
